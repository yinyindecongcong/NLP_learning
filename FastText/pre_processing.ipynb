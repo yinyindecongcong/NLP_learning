{
 "cells": [
  {
   "cell_type": "markdown",
   "metadata": {},
   "source": [
    "### 预处理"
   ]
  },
  {
   "cell_type": "code",
   "execution_count": 1,
   "metadata": {},
   "outputs": [
    {
     "name": "stderr",
     "output_type": "stream",
     "text": [
      "D:\\Anaconda\\lib\\site-packages\\h5py\\__init__.py:34: FutureWarning: Conversion of the second argument of issubdtype from `float` to `np.floating` is deprecated. In future, it will be treated as `np.float64 == np.dtype(float).type`.\n",
      "  from ._conv import register_converters as _register_converters\n"
     ]
    },
    {
     "name": "stdout",
     "output_type": "stream",
     "text": [
      "curses is not supported on this machine (please install/reinstall curses for an optimal experience)\n",
      "import package successful...\n"
     ]
    }
   ],
   "source": [
    "# import some packages\n",
    "import pandas as pd\n",
    "from collections import Counter\n",
    "from tflearn.data_utils import pad_sequences\n",
    "import random\n",
    "import numpy as np\n",
    "import h5py\n",
    "import pickle\n",
    "print(\"import package successful...\")"
   ]
  },
  {
   "cell_type": "code",
   "execution_count": 2,
   "metadata": {},
   "outputs": [
    {
     "name": "stdout",
     "output_type": "stream",
     "text": [
      "train_data_x: (2999967, 5)\n",
      "train_data_y: (2999967, 2)\n",
      "valid_data_x: (217360, 5)\n"
     ]
    }
   ],
   "source": [
    "# read source file as csv\n",
    "base_path='D:/zhihu_data/data/ieee_zhihu_cup2/'\n",
    "train_data_x=pd.read_csv(base_path+'question_train_set3.txt',sep='\\t', encoding=\"utf-8\")\n",
    "train_data_y=pd.read_csv(base_path+'question_topic_train_set3.txt',sep='\\t', encoding=\"utf-8\")\n",
    "valid_data_x=pd.read_csv(base_path+'question_eval_set3.txt', sep='\\t',encoding=\"utf-8\")\n",
    "\n",
    "train_data_x=train_data_x.fillna('')\n",
    "train_data_y=train_data_y.fillna('')\n",
    "valid_data_x=valid_data_x.fillna('')\n",
    "print(\"train_data_x:\",train_data_x.shape)\n",
    "print(\"train_data_y:\",train_data_y.shape)\n",
    "print(\"valid_data_x:\",valid_data_x.shape)"
   ]
  },
  {
   "cell_type": "code",
   "execution_count": 3,
   "metadata": {},
   "outputs": [
    {
     "data": {
      "text/html": [
       "<div>\n",
       "<style>\n",
       "    .dataframe thead tr:only-child th {\n",
       "        text-align: right;\n",
       "    }\n",
       "\n",
       "    .dataframe thead th {\n",
       "        text-align: left;\n",
       "    }\n",
       "\n",
       "    .dataframe tbody tr th {\n",
       "        vertical-align: top;\n",
       "    }\n",
       "</style>\n",
       "<table border=\"1\" class=\"dataframe\">\n",
       "  <thead>\n",
       "    <tr style=\"text-align: right;\">\n",
       "      <th></th>\n",
       "      <th>question_id</th>\n",
       "      <th>title_char</th>\n",
       "      <th>title_word</th>\n",
       "      <th>desc_char</th>\n",
       "      <th>desc_word</th>\n",
       "    </tr>\n",
       "  </thead>\n",
       "  <tbody>\n",
       "    <tr>\n",
       "      <th>0</th>\n",
       "      <td>6555699376639805223</td>\n",
       "      <td>c324,c39,c40,c155,c180,c180,c181,c17,c4,c1153,...</td>\n",
       "      <td>w305,w13549,w22752,w11,w7225,w2565,w1106,w16,w...</td>\n",
       "      <td>c335,c101,c611,c189,c97,c144,c147,c101,c15,c76...</td>\n",
       "      <td>w231,w54,w1681,w54,w11506,w5714,w7,w54,w744,w1...</td>\n",
       "    </tr>\n",
       "    <tr>\n",
       "      <th>1</th>\n",
       "      <td>2887834264226772863</td>\n",
       "      <td>c44,c110,c101,c286,c106,c150,c101,c892,c632,c1...</td>\n",
       "      <td>w377,w54,w285,w57,w349,w54,w108215,w6,w47986,w...</td>\n",
       "      <td>c1265,c518,c74,c131,c274,c57,c768,c769,c368,c3...</td>\n",
       "      <td>w12508,w1380,w72,w27045,w276,w111</td>\n",
       "    </tr>\n",
       "    <tr>\n",
       "      <th>2</th>\n",
       "      <td>-2687466858632038806</td>\n",
       "      <td>c15,c768,c769,c1363,c650,c1218,c2361,c11,c90,c...</td>\n",
       "      <td>w875,w15450,w42394,w15863,w6,w95421,w25,w803,w...</td>\n",
       "      <td>c693,c100,c279,c99,c189,c532,c101,c189,c145,c1...</td>\n",
       "      <td>w140340,w54,w48398,w54,w140341,w54,w12856,w54,...</td>\n",
       "    </tr>\n",
       "    <tr>\n",
       "      <th>3</th>\n",
       "      <td>-5698296155734268</td>\n",
       "      <td>c473,c1528,c528,c428,c295,c15,c101,c188,c146,c...</td>\n",
       "      <td>w8646,w2744,w1462,w9,w54,w138,w54,w50,w110,w14...</td>\n",
       "      <td></td>\n",
       "      <td></td>\n",
       "    </tr>\n",
       "    <tr>\n",
       "      <th>4</th>\n",
       "      <td>-6719100304248915192</td>\n",
       "      <td>c190,c147,c105,c219,c220,c101,c647,c219,c220,c...</td>\n",
       "      <td>w380,w54,w674,w133,w54,w134,w614,w54,w929,w307...</td>\n",
       "      <td>c644,c1212,c253,c199,c431,c452,c424,c207,c2,c1...</td>\n",
       "      <td>w4821,w1301,w16003,w928,w1961,w2565,w50803,w11...</td>\n",
       "    </tr>\n",
       "  </tbody>\n",
       "</table>\n",
       "</div>"
      ],
      "text/plain": [
       "           question_id                                         title_char  \\\n",
       "0  6555699376639805223  c324,c39,c40,c155,c180,c180,c181,c17,c4,c1153,...   \n",
       "1  2887834264226772863  c44,c110,c101,c286,c106,c150,c101,c892,c632,c1...   \n",
       "2 -2687466858632038806  c15,c768,c769,c1363,c650,c1218,c2361,c11,c90,c...   \n",
       "3    -5698296155734268  c473,c1528,c528,c428,c295,c15,c101,c188,c146,c...   \n",
       "4 -6719100304248915192  c190,c147,c105,c219,c220,c101,c647,c219,c220,c...   \n",
       "\n",
       "                                          title_word  \\\n",
       "0  w305,w13549,w22752,w11,w7225,w2565,w1106,w16,w...   \n",
       "1  w377,w54,w285,w57,w349,w54,w108215,w6,w47986,w...   \n",
       "2  w875,w15450,w42394,w15863,w6,w95421,w25,w803,w...   \n",
       "3  w8646,w2744,w1462,w9,w54,w138,w54,w50,w110,w14...   \n",
       "4  w380,w54,w674,w133,w54,w134,w614,w54,w929,w307...   \n",
       "\n",
       "                                           desc_char  \\\n",
       "0  c335,c101,c611,c189,c97,c144,c147,c101,c15,c76...   \n",
       "1  c1265,c518,c74,c131,c274,c57,c768,c769,c368,c3...   \n",
       "2  c693,c100,c279,c99,c189,c532,c101,c189,c145,c1...   \n",
       "3                                                      \n",
       "4  c644,c1212,c253,c199,c431,c452,c424,c207,c2,c1...   \n",
       "\n",
       "                                           desc_word  \n",
       "0  w231,w54,w1681,w54,w11506,w5714,w7,w54,w744,w1...  \n",
       "1                  w12508,w1380,w72,w27045,w276,w111  \n",
       "2  w140340,w54,w48398,w54,w140341,w54,w12856,w54,...  \n",
       "3                                                     \n",
       "4  w4821,w1301,w16003,w928,w1961,w2565,w50803,w11...  "
      ]
     },
     "execution_count": 3,
     "metadata": {},
     "output_type": "execute_result"
    }
   ],
   "source": [
    "train_data_x.head()"
   ]
  },
  {
   "cell_type": "code",
   "execution_count": 10,
   "metadata": {},
   "outputs": [
    {
     "name": "stdout",
     "output_type": "stream",
     "text": [
      "dict_length_columns: {'title_char': 22.350212519004373, 'title_word': 12.91504206546272, 'desc_char': 116.06157667734344, 'desc_word': 57.72050159218418}\n"
     ]
    }
   ],
   "source": [
    "# compute average length of title_char, title_word, desc_char, desc_word\n",
    "\n",
    "dict_length_columns={'title_char':0,'title_word':0,'desc_char':0,'desc_word':0}\n",
    "num_examples=len(train_data_x)\n",
    "train_data_x_small=train_data_x.sample(frac=0.01)\n",
    "for index, row in train_data_x_small.iterrows():\n",
    "    title_char_length=len(row['title_char'].split(\",\"))\n",
    "    title_word_length=len(row['title_word'].split(\",\"))\n",
    "    desc_char_length=len(row['desc_char'].split(\",\"))\n",
    "    desc_word_length=len(row['desc_word'].split(\",\"))\n",
    "    dict_length_columns['title_char']=dict_length_columns['title_char']+title_char_length\n",
    "    dict_length_columns['title_word']=dict_length_columns['title_word']+title_word_length\n",
    "    dict_length_columns['desc_char']=dict_length_columns['desc_char']+desc_char_length\n",
    "    dict_length_columns['desc_word']=dict_length_columns['desc_word']+desc_word_length\n",
    "dict_length_columns={k:float(v)/float(num_examples*0.01) for k,v in dict_length_columns.items()}\n",
    "print(\"dict_length_columns:\",dict_length_columns)\n",
    "\n",
    "# averaged length of a input. total length of all information(words,character of title+desc): 210.\n",
    "# word of title+desc: 71\n",
    "# character of title+desc: 139"
   ]
  },
  {
   "cell_type": "code",
   "execution_count": 11,
   "metadata": {},
   "outputs": [
    {
     "data": {
      "text/html": [
       "<div>\n",
       "<style>\n",
       "    .dataframe thead tr:only-child th {\n",
       "        text-align: right;\n",
       "    }\n",
       "\n",
       "    .dataframe thead th {\n",
       "        text-align: left;\n",
       "    }\n",
       "\n",
       "    .dataframe tbody tr th {\n",
       "        vertical-align: top;\n",
       "    }\n",
       "</style>\n",
       "<table border=\"1\" class=\"dataframe\">\n",
       "  <thead>\n",
       "    <tr style=\"text-align: right;\">\n",
       "      <th></th>\n",
       "      <th>question_id</th>\n",
       "      <th>topic_ids</th>\n",
       "    </tr>\n",
       "  </thead>\n",
       "  <tbody>\n",
       "    <tr>\n",
       "      <th>0</th>\n",
       "      <td>6555699376639805223</td>\n",
       "      <td>7739004195693774975,3738968195649774859</td>\n",
       "    </tr>\n",
       "    <tr>\n",
       "      <th>1</th>\n",
       "      <td>2887834264226772863</td>\n",
       "      <td>-3149765934180654494</td>\n",
       "    </tr>\n",
       "    <tr>\n",
       "      <th>2</th>\n",
       "      <td>-2687466858632038806</td>\n",
       "      <td>-760432988437306018</td>\n",
       "    </tr>\n",
       "    <tr>\n",
       "      <th>3</th>\n",
       "      <td>-5698296155734268</td>\n",
       "      <td>-6758942141122113907,3195914392210930723</td>\n",
       "    </tr>\n",
       "    <tr>\n",
       "      <th>4</th>\n",
       "      <td>-6719100304248915192</td>\n",
       "      <td>3804601920633030746,4797226510592237555,435133...</td>\n",
       "    </tr>\n",
       "  </tbody>\n",
       "</table>\n",
       "</div>"
      ],
      "text/plain": [
       "           question_id                                          topic_ids\n",
       "0  6555699376639805223            7739004195693774975,3738968195649774859\n",
       "1  2887834264226772863                               -3149765934180654494\n",
       "2 -2687466858632038806                                -760432988437306018\n",
       "3    -5698296155734268           -6758942141122113907,3195914392210930723\n",
       "4 -6719100304248915192  3804601920633030746,4797226510592237555,435133..."
      ]
     },
     "execution_count": 11,
     "metadata": {},
     "output_type": "execute_result"
    }
   ],
   "source": [
    "train_data_y.head()"
   ]
  },
  {
   "cell_type": "code",
   "execution_count": 12,
   "metadata": {},
   "outputs": [
    {
     "name": "stdout",
     "output_type": "stream",
     "text": [
      "average_num_labels: 2.3377\n"
     ]
    }
   ],
   "source": [
    "# average labels for a input\n",
    "train_data_y_small=train_data_y.sample(frac=0.01)\n",
    "num_examples=len(train_data_y_small)\n",
    "num_labels=0\n",
    "for index, row in train_data_y_small.iterrows():\n",
    "    topic_ids=row['topic_ids']\n",
    "    topic_id_list=topic_ids.split(\",\")\n",
    "    num_labels+=len(topic_id_list)\n",
    "average_num_labels=float(num_labels)/float(num_examples)\n",
    "print(\"average_num_labels:\",average_num_labels)\n"
   ]
  },
  {
   "cell_type": "code",
   "execution_count": 13,
   "metadata": {
    "collapsed": true
   },
   "outputs": [],
   "source": [
    "word_embedding_object=open(base_path+'unused_current/char_embedding.txt')\n",
    "lines_wv=word_embedding_object.readlines()\n",
    "word_embedding_object.close()"
   ]
  },
  {
   "cell_type": "code",
   "execution_count": 14,
   "metadata": {},
   "outputs": [
    {
     "data": {
      "text/plain": [
       "11974"
      ]
     },
     "execution_count": 14,
     "metadata": {},
     "output_type": "execute_result"
    }
   ],
   "source": [
    "len(lines_wv)"
   ]
  },
  {
   "cell_type": "code",
   "execution_count": 15,
   "metadata": {},
   "outputs": [
    {
     "data": {
      "text/plain": [
       "['11973', '256\\n']"
      ]
     },
     "execution_count": 15,
     "metadata": {},
     "output_type": "execute_result"
    }
   ],
   "source": [
    "lines_wv[0].split(' ')"
   ]
  },
  {
   "cell_type": "code",
   "execution_count": 16,
   "metadata": {
    "scrolled": true
   },
   "outputs": [
    {
     "name": "stdout",
     "output_type": "stream",
     "text": [
      "0 PAD\n",
      "1 UNK\n",
      "2 SEP\n",
      "3 </s>\n",
      "4 c17\n",
      "5 c101\n",
      "6 c11\n",
      "7 c4\n",
      "8 c147\n",
      "9 c85\n",
      "vocabulary of char generated....\n"
     ]
    }
   ],
   "source": [
    "#创建word2index表和embedding表\n",
    "word_embedding_object=open(base_path+'unused_current/char_embedding.txt')\n",
    "lines_wv=word_embedding_object.readlines()\n",
    "word_embedding_object.close()\n",
    "char_list=[]\n",
    "char_list.extend(['PAD','UNK','SEP'])\n",
    "PAD_ID=0\n",
    "UNK_ID=1\n",
    "EMBED_SIZE = 100\n",
    "bound = 0.5\n",
    "embedding = [None] * (int(lines_wv[0].split(' ')[0]) + 3) #长度\n",
    "embedding[0] = np.zeros(100)\n",
    "embedding[1] = np.random.rand(100)\n",
    "embedding[2] = embedding[0] + 0.1\n",
    "for i, line in enumerate(lines_wv):\n",
    "    if i==0: continue\n",
    "    char_embedding_list=line.split(\" \")\n",
    "    char_token=char_embedding_list[0]\n",
    "    char_list.append(char_token)\n",
    "    embedding[i+2] = char_embedding_list[1:1+EMBED_SIZE]\n",
    "\n",
    "embedding = np.array(embedding,dtype=np.float32)\n",
    "# write to vocab.txt under data/ieee_zhihu_cup2\n",
    "vocab_path=base_path+'vocab.txt'\n",
    "\n",
    "vocab_char_object=open(vocab_path,'w')\n",
    "\n",
    "word2index={}\n",
    "for i, char in enumerate(char_list):\n",
    "    if i<10:print(i,char)\n",
    "    word2index[char]=i\n",
    "    vocab_char_object.write(char+\"\\n\")\n",
    "vocab_char_object.close()\n",
    "print(\"vocabulary of char generated....\")"
   ]
  },
  {
   "cell_type": "code",
   "execution_count": 17,
   "metadata": {},
   "outputs": [
    {
     "name": "stdout",
     "output_type": "stream",
     "text": [
      "7476760589625268543 2308\n",
      "4697014490911193675 1746\n",
      "-4653836020042332281 1579\n",
      "-8175048003539471998 1475\n",
      "-8377411942628634656 1382\n",
      "-7046289575185911002 1338\n",
      "-5932391056759866388 1283\n",
      "2787171473654490487 1145\n",
      "-7129272008741138808 1085\n",
      "2587540952280802350 1079\n",
      "-4931965624608608932 1079\n",
      "-6748914495015758455 1049\n",
      "-5513826101327857645 993\n",
      "2347973810368732059 970\n",
      "9069451131871918127 958\n",
      "-8132909213241034354 904\n",
      "-3517637179126242000 867\n",
      "-5872443091340192918 834\n",
      "-3522198575349379632 830\n",
      "1127459907694805235 829\n",
      "generate label dict successful...\n"
     ]
    }
   ],
   "source": [
    " # generate labels list, and save to file system \n",
    "c_labels=Counter()\n",
    "train_data_y_small=train_data_y[0:100000]#.sample(frac=0.1)\n",
    "for index, row in train_data_y_small.iterrows():\n",
    "    topic_ids=row['topic_ids']\n",
    "    topic_list=topic_ids.split(',')\n",
    "    c_labels.update(topic_list)\n",
    "\n",
    "label_list=c_labels.most_common()\n",
    "label2index={}\n",
    "label_target_object=open(base_path+'label_set.txt','w')\n",
    "for i, label_freq in enumerate(label_list):\n",
    "    label,freq=label_freq\n",
    "    label2index[label]=i\n",
    "    label_target_object.write(label+\"\\n\")\n",
    "    if i<20: print(label,freq)\n",
    "label_target_object.close()\n",
    "print(\"generate label dict successful...\")"
   ]
  },
  {
   "cell_type": "code",
   "execution_count": 18,
   "metadata": {},
   "outputs": [
    {
     "name": "stdout",
     "output_type": "stream",
     "text": [
      "label_list_sparse: [1. 1. 1. 0. 0. 0. 0. 0. 0. 0. 1. 0. 0. 0. 0. 0. 0. 0. 0. 0.]\n"
     ]
    }
   ],
   "source": [
    "def transform_multilabel_as_multihot(label_list,label_size):\n",
    "    \"\"\"\n",
    "    convert to multi-hot style\n",
    "    :param label_list: e.g.[0,1,4], here 4 means in the 4th position it is true value(as indicate by'1')\n",
    "    :param label_size: e.g.199\n",
    "    :return:e.g.[1,1,0,1,0,0,........]\n",
    "    \"\"\"\n",
    "    result=np.zeros(label_size)\n",
    "    #set those location as 1, all else place as 0.\n",
    "    result[label_list] = 1\n",
    "    return result\n",
    "\n",
    "label_list=[0,1,2,10]\n",
    "label_size=20\n",
    "label_list_sparse=transform_multilabel_as_multihot(label_list,label_size)\n",
    "print(\"label_list_sparse:\",label_list_sparse)"
   ]
  },
  {
   "cell_type": "code",
   "execution_count": 19,
   "metadata": {
    "collapsed": true
   },
   "outputs": [],
   "source": [
    "vocabulary_word2index = word2index\n",
    "def get_X_Y(train_data_x,train_data_y,label_size, test_mode=False):\n",
    "    \"\"\"\n",
    "    get X and Y given input and labels\n",
    "    input:\n",
    "    train_data_x:\n",
    "    train_data_y:\n",
    "    label_size: number of total unique labels(e.g. 1999 in this task)\n",
    "    output:\n",
    "    X,Y\n",
    "    \"\"\"\n",
    "    X=[]\n",
    "    Y=[]\n",
    "    if test_mode:\n",
    "        train_data_x_tiny_test=train_data_x[0:1000] # todo todo todo todo todo todo todo todo todo todo todo todo \n",
    "        train_data_y_tiny_test=train_data_y[0:1000] # todo todo todo todo todo todo todo todo todo todo todo todo \n",
    "    else:\n",
    "        train_data_x_tiny_test=train_data_x\n",
    "        train_data_y_tiny_test=train_data_y\n",
    "\n",
    "    for index, row in train_data_x_tiny_test.iterrows():\n",
    "        if index==0: \n",
    "            print(row)\n",
    "            continue\n",
    "        # get character of title and dssc\n",
    "        title_char=row['title_char']\n",
    "        desc_char=row['desc_char']\n",
    "        # split into list\n",
    "        title_char_list=title_char.split(',')\n",
    "        desc_char_list=desc_char.split(\",\")\n",
    "        # transform to indices\n",
    "        title_char_id_list=[vocabulary_word2index.get(x,UNK_ID) for x in title_char_list if x.strip()]\n",
    "        desc_char_id_list=[vocabulary_word2index.get(x,UNK_ID) for x in desc_char_list if x.strip()]\n",
    "        # merge title and desc: in the middle is special token 'SEP'\n",
    "        title_char_id_list.append(vocabulary_word2index['SEP'])\n",
    "        title_char_id_list.extend(desc_char_id_list)\n",
    "        X.append(title_char_id_list)\n",
    "        if index<3: print(index,title_char_id_list)\n",
    "        if index%100000==0: print(index,title_char_id_list)\n",
    "    \n",
    "    #产生单一标签\n",
    "    for index, row in train_data_y_tiny_test.iterrows():\n",
    "        if index==0: continue\n",
    "        topic_id = row['topic_ids'].split(',')[0]\n",
    "        Y.append(label2index[topic_id])\n",
    "        if index%100000==0: print(index,\";label_index:\",label2index[topic_id])\n",
    "    '''\n",
    "    for index, row in train_data_y_tiny_test.iterrows():\n",
    "        if index==0: continue\n",
    "        topic_ids=row['topic_ids']\n",
    "        topic_id_list=topic_ids.split(\",\")\n",
    "        label_list_dense=[label2index[l] for l in topic_id_list if l.strip()]\n",
    "        label_list_sparse=transform_multilabel_as_multihot(label_list_dense,label_size)\n",
    "        Y.append(label_list_sparse)\n",
    "        if index%100000==0: print(index,\";label_list_dense:\",label_list_dense)\n",
    "    '''\n",
    "    return X,Y"
   ]
  },
  {
   "cell_type": "code",
   "execution_count": 20,
   "metadata": {
    "collapsed": true
   },
   "outputs": [],
   "source": [
    "def save_data(cache_file_h5py,cache_file_pickle,word2index,label2index,train_X,train_Y,vaild_X,valid_Y,test_X,test_Y, embedding):\n",
    "    # train/valid/test data using h5py\n",
    "    f = h5py.File(cache_file_h5py, 'w')\n",
    "    f['train_X'] = train_X\n",
    "    f['train_Y'] = train_Y\n",
    "    f['vaild_X'] = vaild_X\n",
    "    f['valid_Y'] = valid_Y\n",
    "    f['test_X'] = test_X\n",
    "    f['test_Y'] = test_Y\n",
    "    f['embedding'] = embedding\n",
    "    f.close()\n",
    "    # save word2index, label2index\n",
    "    with open(cache_file_pickle, 'ab') as target_file:\n",
    "        pickle.dump((word2index,label2index), target_file)"
   ]
  },
  {
   "cell_type": "code",
   "execution_count": 21,
   "metadata": {
    "scrolled": false
   },
   "outputs": [
    {
     "name": "stdout",
     "output_type": "stream",
     "text": [
      "question_id                                  6555699376639805223\n",
      "title_char     c324,c39,c40,c155,c180,c180,c181,c17,c4,c1153,...\n",
      "title_word     w305,w13549,w22752,w11,w7225,w2565,w1106,w16,w...\n",
      "desc_char      c335,c101,c611,c189,c97,c144,c147,c101,c15,c76...\n",
      "desc_word      w231,w54,w1681,w54,w11506,w5714,w7,w54,w744,w1...\n",
      "Name: 0, dtype: object\n",
      "1 [104, 137, 5, 25, 29, 22, 5, 516, 1386, 191, 661, 6, 188, 909, 1605, 503, 52, 61, 27, 9, 54, 58, 78, 1411, 642, 262, 60, 137, 103, 10, 2, 537, 90, 58, 20, 67, 13, 61, 27, 357, 595, 10]\n",
      "2 [52, 61, 27, 2146, 556, 1348, 816, 6, 131, 1684, 159, 7, 128, 89, 87, 6, 350, 523, 37, 113, 10, 2, 618, 18, 85, 114, 100, 197, 5, 100, 46, 100, 8, 114, 114, 353, 5, 49, 18, 8, 395, 46, 5, 8, 15, 5, 31, 5, 84, 51, 77, 15, 30, 46, 5, 8, 77, 28, 5, 46, 15, 51, 49, 46, 5, 70, 353, 5, 14, 22, 5, 3656, 5, 14, 21, 5, 84, 51, 77, 15, 30, 46, 5, 339, 736, 78, 663, 233, 30, 15, 15, 49, 179, 32, 32, 33, 33, 33, 29, 73, 8, 46, 15, 40, 51, 395, 24, 28, 46, 29, 51, 40, 73, 32, 36, 51, 77, 15, 18, 77, 15, 32, 22, 22, 32, 18, 77, 32, 618, 18, 85, 114, 100, 197, 425, 22, 17, 900, 425, 22, 17, 304, 420, 618, 449, 32, 618, 18, 85, 114, 100, 197, 425, 22, 17, 900, 425, 22, 17, 304, 420, 618, 449, 425, 22, 17, 24, 77, 425, 22, 17, 312, 77, 85, 8, 77, 15, 46, 29, 30, 15, 84, 114]\n",
      "100000 [125, 37, 709, 1131, 6, 221, 89, 141, 527, 1666, 10, 2, 149, 35, 267, 754, 1237, 1131, 120, 4, 343, 224, 154, 268, 261, 525, 115, 709, 1131, 4, 201, 68, 91, 20, 226, 12, 112, 125, 37, 709, 1131, 1579, 221, 141, 86, 10]\n",
      "200000 [12, 103, 237, 193, 302, 90, 132, 257, 223, 345, 392, 128, 345, 10, 2, 12, 117, 237, 6, 193, 302, 5, 90, 132, 22, 56, 279, 257, 223, 345, 392, 185, 182, 303, 13, 345, 6, 193, 302, 10]\n",
      "300000 [710, 559, 567, 601, 447, 369, 833, 13, 61, 27, 394, 1267, 130, 10, 2, 97, 135, 363, 498, 567, 601, 4, 1371, 89, 369, 833, 90, 203, 13, 567, 601, 65, 527, 9, 86, 93, 54, 447, 128, 78, 591, 5, 162, 7, 13, 139, 567, 601, 108, 5, 1166, 837, 567, 4, 13, 139, 5, 661, 567, 5, 567, 601, 786, 271, 5, 108, 567, 98, 262, 688, 369, 833, 653, 845, 9, 12, 96, 4, 5, 13, 61, 27, 394, 1267, 83, 603, 130, 10, 5, 61, 27, 74, 175, 108, 1166, 837, 567, 10, 567, 601, 88, 96, 786, 271, 5, 108, 262, 688, 6, 567, 10, 5, 50, 86, 330, 93, 54, 710, 559, 567, 601, 447, 128, 78, 5, 195, 330, 6, 5, 9, 653, 979, 6, 5, 186, 88, 27, 239, 10]\n",
      "400000 [26, 384, 451, 246, 6, 283, 153, 169, 443, 109, 355, 104, 13, 125, 139, 259, 404, 6, 115, 171, 10, 2]\n",
      "500000 [252, 115, 26, 129, 1089, 232, 112, 6, 35, 258, 337, 192, 370, 430, 83, 68, 499, 47, 188, 150, 511, 58, 130, 10, 2]\n",
      "600000 [90, 132, 541, 366, 12, 37, 1288, 60, 136, 6, 59, 932, 10, 2]\n",
      "700000 [52, 61, 27, 348, 1488, 152, 286, 107, 50, 336, 167, 587, 78, 35, 93, 7, 872, 206, 229, 1107, 295, 758, 10, 2, 9, 911, 7, 126, 357, 4, 246, 222, 304, 107, 169, 6, 65, 7, 4, 57, 331, 7, 309, 45, 55, 107, 93, 168, 259, 83, 68, 111, 47, 587, 78, 35, 93, 7, 872, 206, 229, 1107, 295, 758, 6, 617, 593, 16, 5, 262, 60, 256, 611, 164, 737, 1181, 737, 6, 473, 314, 86, 20, 4, 48, 107, 57, 321, 37, 86, 176, 246, 850, 350, 12, 794, 6, 473, 152, 769, 138, 5, 80, 24, 84, 73, 5, 46, 40, 36, 44, 19, 8, 14, 85, 17, 31, 34, 25, 38, 70, 14, 8, 34, 28, 31, 28, 34, 8, 28, 25, 18, 31, 85, 38, 70, 38, 14, 21, 8, 14, 14, 22, 17, 19, 5, 28, 8, 15, 8, 39, 40, 8, 33, 33, 24, 28, 15, 30, 44, 19, 34, 22, 23, 19, 5, 28, 8, 15, 8, 39, 40, 8, 33, 30, 18, 24, 73, 30, 15, 44, 19, 43, 23, 38, 19, 79]\n",
      "800000 [34, 56, 6, 583, 292, 4, 186, 9, 186, 167, 136, 10, 2]\n",
      "900000 [584, 599, 13, 86, 195, 272, 1095, 544, 1958, 136, 10, 104, 328, 1098, 308, 1205, 86, 195, 10, 461, 104, 328, 1098, 254, 137, 6, 1958, 136, 104, 13, 1095, 544, 1958, 136, 27, 10, 2]\n",
      "1000000 [470, 1226, 417, 335, 153, 32, 311, 1125, 90, 132, 26, 629, 78, 333, 1006, 10, 2, 80, 30, 14, 79, 5, 11, 91, 447, 470, 1226, 417, 335, 119, 7, 131, 330, 397, 151, 81, 1563, 81, 1563, 181, 181, 181, 80, 32, 30, 14, 79, 5, 11, 103, 35, 93, 495, 110, 55, 48, 183, 123, 53, 153, 1125, 4, 57, 162, 7, 166, 215, 35, 737, 737, 1625, 138, 4, 65, 53, 35, 573, 50, 311, 252, 148, 417, 335, 1625, 138, 16, 16, 16, 16, 16, 5, 208, 389, 94, 26, 150, 145, 27, 195, 145, 27, 993, 4, 322, 9, 83, 54, 13, 35, 12, 106, 470, 1625, 138, 16, 16, 16, 16, 5, 99, 55, 48, 72, 447, 48, 623, 463, 58, 81, 50, 74, 117, 287, 65, 81, 725, 258, 407, 447, 4, 128, 78, 47, 276, 53, 153, 1125, 65, 53, 311, 1125, 16, 16, 16, 16, 5, 60, 102, 93, 470, 668, 11, 94, 143, 165, 447, 312, 209, 265, 67, 335, 327, 16, 16, 16, 16, 16, 83, 7, 48, 266, 96, 11, 243, 127, 53, 640, 807, 4, 67, 255, 11, 322, 50, 725, 258, 16, 16, 16, 16]\n",
      "1100000 [50, 278, 421, 123, 5, 264, 1510, 5, 232, 956, 383, 10, 2]\n",
      "1200000 [52, 132, 120, 652, 1659, 138, 50, 86, 9, 58, 1586, 501, 10, 2]\n",
      "1300000 [41, 20, 50, 69, 4, 157, 134, 53, 13, 268, 261, 6, 35, 62, 2, 11, 342, 168, 458, 9, 551, 268, 261, 12, 37, 35, 7, 61, 27, 157, 134, 20, 4, 162, 458, 118, 615, 104, 6, 74, 175, 268, 261, 109, 11, 102, 529, 107, 12, 37, 120, 89, 4, 145, 65, 7, 257, 615, 337, 101, 242, 6, 4, 615, 12, 350, 12, 539, 404, 47, 140, 134, 118, 140, 371, 338, 4, 47, 65, 13, 165, 9, 268, 261, 140, 4, 134, 118, 13, 165, 131, 871, 4, 9, 121, 142, 257, 61, 27, 74, 175, 57, 101, 242, 268, 261, 140, 20, 4, 145, 74, 175, 1707, 9, 118, 74, 74, 942, 942, 98, 140, 26, 12, 214, 4, 264, 178, 48, 7, 12, 465, 1175, 583, 16, 5, 131, 104, 6, 74, 175, 13, 165, 97, 1533, 1295, 784, 4, 11, 65, 9, 121, 142, 11, 131, 104, 6, 74, 175, 47, 481, 13, 53, 13, 268, 261, 109, 610, 4, 13, 109, 145, 27, 280, 37, 120, 89, 98, 11, 217, 277, 59, 4, 11, 57, 110, 140, 102, 59, 4, 364, 89, 20, 59, 157, 4, 13, 74, 11, 134, 118, 11, 9, 7, 268, 261, 140, 102, 6, 4, 119, 7, 276, 91, 98, 140, 102, 26, 12, 214, 4, 94, 26, 50, 69, 20, 4, 11, 225, 91, 4, 50, 695, 264, 74, 11, 314, 1895, 45, 1295, 784, 4, 162, 91, 13, 37, 35, 1197, 1190, 600, 1570, 4, 50, 695, 9, 7, 158, 6, 268, 261, 419, 16, 5, 94, 26, 11, 26, 12, 201, 275, 348, 324, 50, 69, 221, 120, 182, 254, 182, 1060, 4, 11, 102, 529, 221, 120, 182, 12, 182, 523, 4, 13, 81, 86, 204, 69, 287, 118, 371, 338, 6, 4, 11, 65, 13, 109, 280, 240, 12, 404, 880, 180, 6, 145, 177, 144, 164, 4, 119, 7, 194, 87, 276, 53, 20, 48, 177, 157, 134, 4, 16, 11, 158, 6, 9, 121, 142, 4, 11, 91, 654, 12, 465, 583, 292, 4, 119, 7, 158, 6, 342, 168, 53, 13, 20, 615, 104, 145, 177, 144, 164, 6, 157, 134, 20, 16, 5, 11, 186, 88, 27, 239, 267]\n",
      "1400000 [131, 254, 232, 89, 4, 110, 190, 104, 487, 50, 69, 124, 319, 422, 50, 69, 124, 923, 855, 50, 69, 124, 684, 104, 348, 394, 50, 69, 124, 333, 199, 343, 298, 50, 69, 124, 1461, 156, 50, 69, 186, 90, 132, 2863, 557, 10, 2, 149, 35, 52, 502, 307, 1235, 131, 232, 6, 505, 333, 151, 348, 120, 89, 4, 925, 696, 345, 43, 23, 17, 705, 711, 4, 83, 68, 155, 387, 6, 278, 123, 1830, 466, 50, 695, 13, 335, 331, 198, 324, 124, 376, 69, 324, 124, 415, 778, 324, 124, 755, 779, 324, 16, 235, 186, 67, 447, 444, 570, 701, 4, 489, 388, 141, 59, 54, 632, 128, 137, 16, 5, 629, 41, 72, 1592, 566, 992, 747, 4, 1368, 178, 182, 303, 819, 1118, 4, 9, 121, 505, 50, 121, 154, 7, 402, 54, 257, 150, 1072, 375, 198, 666, 124, 368, 634, 69, 634, 124, 69, 383, 630, 229, 1762, 878, 124, 69, 383, 996, 293, 124, 278, 123, 143, 258, 290, 146, 169, 110, 68, 41, 280, 201, 50, 69, 104, 6, 12, 201, 265, 280, 201, 147, 128, 167, 796, 10, 9, 1359, 157, 895, 16, 5, 740, 4, 110, 190, 151, 348, 120, 89, 6, 278, 123, 321, 557, 4, 50, 103, 13, 61, 27, 470, 668, 130, 10]\n",
      "1500000 [90, 132, 316, 54, 26, 411, 524, 82, 47, 120, 224, 154, 10, 2, 342, 168, 22, 38, 20, 4, 484, 123, 355, 921, 2613, 4, 875, 424, 99, 183, 4, 1055, 756, 180, 424, 639, 4, 365, 134, 118, 97, 135, 404, 109, 6, 120, 89, 195, 4, 271, 144, 160, 6, 322, 195, 4, 11, 65, 121, 142, 53, 13, 243, 191, 223, 3723, 4, 119, 7, 99, 7, 157, 134, 120, 89, 13, 265, 86, 265, 195, 981, 509, 97, 135, 481, 474, 6, 874, 165, 4, 11, 186, 88, 27, 239]\n",
      "1600000 [129, 1048, 1606, 47, 6, 319, 333, 4, 424, 103, 9, 108, 731, 4, 918, 521, 518, 75, 55, 162, 54, 886, 530, 4, 48, 331, 9, 331, 1697, 1377, 10, 2, 11, 26, 129, 1048, 41, 1606, 980, 47, 12, 37, 12, 661, 6, 2023, 138, 4, 264, 386, 103, 72, 230, 3776, 1891, 651, 848, 4, 57, 7, 72, 11, 400, 112, 369, 207, 740, 188, 12, 293, 424, 286, 4, 316, 98, 1606, 980, 47, 6, 424, 286, 12, 214, 166, 11, 1685, 109, 78, 16, 48, 7, 402, 271, 189, 4, 11, 186, 90, 132, 931, 692, 10, 862, 606, 55, 12, 112, 4, 918, 521, 6, 235, 110, 198, 415, 158, 6, 9, 183, 4, 1606, 980, 47, 6, 319, 333, 386, 103, 9, 108, 731, 60, 102, 65, 53, 239, 189, 16]\n"
     ]
    },
    {
     "name": "stdout",
     "output_type": "stream",
     "text": [
      "1700000 [526, 407, 1122, 560, 7, 12, 177, 88, 96, 6, 229, 427, 10, 2, 26, 647, 12, 465, 526, 407, 104, 1122, 560, 4, 26, 526, 407, 262, 117, 124, 262, 87, 68, 509, 225, 1389, 104, 93, 13, 125, 139, 229, 427, 10, 5, 80, 247, 24, 28, 18, 51, 5, 24, 28, 44, 19, 25, 23, 22, 14, 34, 19, 5, 28, 8, 15, 8, 39, 46, 33, 85, 100, 40, 114, 44, 19, 30, 15, 15, 49, 179, 32, 32, 49, 114, 8, 353, 18, 40, 29, 353, 51, 100, 395, 100, 29, 36, 51, 84, 32, 49, 114, 8, 353, 18, 40, 29, 49, 30, 49, 32, 46, 24, 28, 32, 434, 384, 245, 374, 17, 384, 245, 312, 31, 472, 245, 73, 33, 32, 247, 29, 46, 33, 85, 19, 5, 49, 51, 46, 15, 18, 40, 44, 19, 30, 15, 15, 49, 179, 32, 32, 73, 25, 29, 353, 395, 24, 84, 73, 29, 36, 51, 84, 32, 17, 14, 17, 17, 34, 31, 14, 592, 31, 34, 23, 14, 22, 17, 34, 17, 25, 246, 222, 21, 25, 17, 17, 23, 246, 420, 451, 246, 22, 14, 34, 222, 21, 420, 34, 21, 34, 31, 39, 25, 449, 592, 25, 39, 420, 23, 451, 246, 39, 31, 23, 17, 25, 39, 22, 23, 17, 592, 38, 25, 38, 38, 449, 449, 222, 449, 19, 5, 28, 8, 15, 8, 39, 46, 51, 100, 40, 36, 18, 100, 40, 114, 44, 19, 30, 15, 15, 49, 179, 32, 32, 247, 29, 353, 51, 100, 395, 100, 29, 36, 51, 84, 32, 247, 378, 46, 30, 51, 33, 32, 24, 28, 378, 434, 384, 245, 374, 17, 384, 245, 312, 31, 472, 245, 73, 33, 29, 30, 15, 84, 114, 19, 5, 28, 8, 15, 8, 39, 77, 8, 84, 18, 44, 19, 137, 103, 150, 151, 5, 526, 104, 1916, 2230, 5, 854, 2539, 12, 474, 19, 79, 80, 32, 247, 24, 28, 18, 51, 79]\n",
      "1800000 [422, 524, 50, 69, 1975, 455, 1038, 2045, 327, 50, 130, 10, 2]\n",
      "1900000 [237, 101, 6, 386, 1356, 98, 81, 635, 53, 554, 152, 6, 386, 1356, 285, 182, 125, 37, 322, 519, 574, 214, 638, 10, 2, 13, 12, 37, 254, 144, 45, 386, 4, 81, 635, 53, 1206, 151, 109, 6, 4, 13, 12, 37, 502, 462, 1121, 6, 4, 184, 331, 499, 262, 104, 12, 37, 147, 726, 123, 386, 1356, 4, 285, 182, 194, 112, 4, 125, 37, 322, 519, 574, 13, 214, 520, 10]\n",
      "2000000 [25, 17, 540, 4, 221, 4, 12, 174, 223, 185, 4, 665, 123, 147, 165, 888, 45, 89, 160, 59, 10, 2, 221, 4, 50, 69, 421, 123, 662, 56, 4, 12, 174, 223, 185, 4, 147, 109, 651, 848, 4, 65, 53, 1638, 47, 311, 4, 143, 26, 9, 91, 184, 172, 41, 529, 20, 16, 91, 147, 165, 45, 89, 160, 83, 7, 4, 1443, 223, 399, 1257, 4, 13, 53, 13, 35, 488, 165, 12, 112, 16]\n",
      "2100000 [90, 203, 11, 428, 56, 1091, 530, 207, 398, 4, 109, 266, 56, 400, 687, 128, 92, 4, 145, 27, 1457, 1052, 6, 738, 183, 1091, 530, 98, 471, 453, 88, 27, 99, 10, 2, 90, 203, 428, 56, 1091, 530, 207, 398, 4, 109, 266, 56, 87, 687, 128, 4, 252, 115, 1457, 1052, 6, 738, 183, 471, 453, 98, 1091, 530, 88, 27, 239, 10]\n",
      "2200000 [217, 277, 81, 59, 6, 759, 253, 224, 154, 81, 407, 185, 52, 180, 1730, 130, 10, 2, 13, 12, 759, 253, 448, 154, 4, 83, 68, 719, 285, 1056, 1130, 4, 83, 68, 719, 285, 887, 110, 146, 6, 216, 4, 119, 140, 55, 147, 180, 1730, 157, 134, 527, 12, 165, 4, 52, 888]\n",
      "2300000 [351, 353, 40, 24, 77, 197, 32, 489, 4248, 1988, 1593, 88, 27, 96, 10, 2]\n",
      "2400000 [850, 404, 98, 924, 924, 147, 292, 20, 4, 48, 289, 259, 130, 10, 2, 26, 288, 74, 98, 924, 924, 6, 217, 277, 57, 81, 59, 4, 99, 260, 215, 35, 1044, 67, 7, 180, 1730, 4, 119, 7, 147, 850, 850, 47, 60, 4, 97, 135, 7, 9, 7, 9, 289, 259, 341, 432, 39, 29, 39, 429]\n",
      "2500000 [1447, 752, 6, 608, 339, 69, 98, 168, 723, 69, 491, 6, 168, 723, 324, 278, 123, 57, 123, 180, 492, 90, 132, 10, 2, 149, 35, 149, 348, 447, 6, 7, 168, 723, 69, 278, 123, 4, 69, 118, 505, 276, 9, 577, 4, 444, 602, 89, 91, 566, 232, 1447, 752, 6, 608, 339, 69, 4, 119, 7, 608, 339, 69, 7, 26, 478, 151, 172, 355, 69, 491, 4, 9, 121, 142, 363, 83, 282, 88, 27, 96, 181, 213, 157, 134, 204, 69, 93, 9, 91, 400, 447, 314, 151, 249, 168, 723, 69, 6, 278, 123, 20, 211]\n",
      "2600000 [141, 228, 377, 645, 50, 1111, 366, 4, 1065, 1624, 22, 569, 118, 128, 136, 27, 10, 2, 377, 645, 913, 366, 4, 1065, 1624, 22, 94, 26, 162, 72, 22, 17, 17, 17, 834, 4, 1407, 178, 13, 177, 72, 4091, 136, 6, 1094, 164, 5, 1065, 1624, 22, 94, 26, 569, 118, 346, 136, 27, 10]\n",
      "2700000 [532, 103, 542, 359, 173, 62, 2, 63, 405, 405, 405, 16, 25, 14, 22, 21, 21, 21, 16, 222, 396, 384, 64]\n",
      "2800000 [131, 232, 26, 792, 4, 235, 186, 88, 96, 609, 630, 144, 571, 78, 131, 578, 734, 6, 69, 334, 10, 2, 273, 273, 502, 316, 316, 423, 112, 536, 171, 6, 864, 16, 16, 16, 149, 35, 68, 153, 257, 9, 536, 48, 27, 563, 4, 297, 1264, 180, 492, 208, 342, 5, 44, 44, 44, 44, 44, 44, 44, 44, 44, 44, 44, 44, 44, 44, 44, 44, 44, 44, 44, 44, 44, 44, 44, 44, 44, 44, 44, 44, 44, 44, 44, 44, 44, 11, 134, 118, 26, 48, 37, 598, 1220, 539, 41, 4, 255, 610, 108, 1710, 927, 258, 93, 54, 147, 47, 4, 119, 7, 11, 134, 118, 94, 26, 6, 144, 571, 72, 609, 630, 59, 4, 9, 178, 67, 1027, 20, 598, 1840, 4, 317, 346, 1033, 171, 6, 1029, 253, 1899, 755, 16, 16, 16, 5, 99, 13, 11, 6, 332, 601, 7, 551, 684, 16, 16, 16, 702, 178, 332, 153, 157, 134, 280, 734, 9, 50, 119, 11, 625, 110, 9, 67, 423, 1001, 48, 37, 850, 91, 16, 5, 162, 7, 9, 91, 196, 52, 9, 59, 6, 144, 571, 255, 97, 135, 87, 1418]\n",
      "2900000 [9, 7, 285, 217, 278, 123, 4, 91, 277, 565, 69, 334, 335, 331, 198, 146, 169, 6, 121, 498, 4, 13, 61, 27, 470, 668, 62, 2, 198, 1439, 278, 123, 4, 119, 110, 335, 331, 198, 81, 157, 640, 807, 4, 996, 293, 770, 815, 786, 507, 9, 7, 115, 171, 4, 470, 109, 405, 51, 40, 28, 49, 40, 18, 46, 46, 784, 657, 671, 518, 4, 101, 236, 173, 386, 4, 147, 109, 45, 6, 36, 84, 49, 31, 194, 324, 6, 45, 645, 293, 4, 268, 261, 1435, 2804, 277, 565, 4, 126, 572, 9, 507, 980, 1136, 645, 293, 4, 1184, 236, 49, 15, 187, 67, 165, 579, 67, 172, 355, 69, 16, 157, 134, 93, 7, 804, 974, 6, 319, 333, 4, 88, 96, 255, 97, 135, 322, 228, 12, 638, 16, 16]\n",
      "100000 ;label_index: 1628\n",
      "200000 ;label_index: 957\n",
      "300000 ;label_index: 726\n",
      "400000 ;label_index: 1987\n",
      "500000 ;label_index: 1066\n",
      "600000 ;label_index: 656\n",
      "700000 ;label_index: 769\n",
      "800000 ;label_index: 418\n",
      "900000 ;label_index: 892\n",
      "1000000 ;label_index: 272\n",
      "1100000 ;label_index: 1214\n",
      "1200000 ;label_index: 1256\n",
      "1300000 ;label_index: 565\n",
      "1400000 ;label_index: 530\n",
      "1500000 ;label_index: 1169\n",
      "1600000 ;label_index: 319\n",
      "1700000 ;label_index: 504\n",
      "1800000 ;label_index: 1491\n",
      "1900000 ;label_index: 861\n",
      "2000000 ;label_index: 642\n",
      "2100000 ;label_index: 525\n",
      "2200000 ;label_index: 697\n",
      "2300000 ;label_index: 456\n",
      "2400000 ;label_index: 1397\n",
      "2500000 ;label_index: 79\n",
      "2600000 ;label_index: 789\n",
      "2700000 ;label_index: 1746\n",
      "2800000 ;label_index: 1584\n",
      "2900000 ;label_index: 506\n",
      "num_examples: 2999966 ;X.shape: (2999966, 200) ;Y.shape: (2999966,)\n",
      "train_X: (2959966, 200) ;train_Y: (2959966,) ;vaild_X.shape: (20000, 200) ;valid_Y: (20000,) ;test_X: (20000, 200) ;test_Y: (20000,)\n",
      "save cache files to file system successfully!\n"
     ]
    }
   ],
   "source": [
    "# generate training/validation/test data using source file and vocabulary/label set.\n",
    "#  get X,Y---> shuffle and split data----> save to file system.\n",
    "test_mode=False\n",
    "label_size=len(label2index)\n",
    "cache_path_h5py=base_path+'data.h5'\n",
    "cache_path_pickle=base_path+'vocab_label.pik'\n",
    "max_sentence_length=200\n",
    "\n",
    "# step 1: get (X,y) \n",
    "X,Y=get_X_Y(train_data_x,train_data_y,label_size,test_mode=test_mode)\n",
    "\n",
    "# pad and truncate to a max_sequence_length\n",
    "X = pad_sequences(X, maxlen=max_sentence_length, value=0.)  # padding to max length\n",
    "\n",
    "# step 2. shuffle, split,\n",
    "xy=list(zip(X,Y))\n",
    "random.Random(10000).shuffle(xy)\n",
    "X,Y=zip(*xy)\n",
    "X=np.array(X); Y=np.array(Y)\n",
    "num_examples=len(X)\n",
    "num_valid=20000\n",
    "num_valid=20000\n",
    "num_train=num_examples-(num_valid+num_valid)\n",
    "train_X, train_Y=X[0:num_train], Y[0:num_train]\n",
    "vaild_X, valid_Y=X[num_train:num_train+num_valid], Y[num_train:num_train+num_valid]\n",
    "test_X, test_Y=X[num_train+num_valid:], Y[num_train+num_valid:]\n",
    "print(\"num_examples:\",num_examples,\";X.shape:\",X.shape,\";Y.shape:\",Y.shape)\n",
    "print(\"train_X:\",train_X.shape,\";train_Y:\",train_Y.shape,\";vaild_X.shape:\",vaild_X.shape,\";valid_Y:\",valid_Y.shape,\";test_X:\",test_X.shape,\";test_Y:\",test_Y.shape)\n",
    "\n",
    "# step 3: save to file system\n",
    "save_data(cache_path_h5py,cache_path_pickle,word2index,label2index,train_X,train_Y,vaild_X,valid_Y,test_X,test_Y, embedding)\n",
    "print(\"save cache files to file system successfully!\")\n",
    "\n",
    "del X,Y,train_X, train_Y,vaild_X, valid_Y,test_X, test_Y, embedding\n"
   ]
  },
  {
   "cell_type": "code",
   "execution_count": null,
   "metadata": {
    "collapsed": true
   },
   "outputs": [],
   "source": []
  }
 ],
 "metadata": {
  "kernelspec": {
   "display_name": "Python 3",
   "language": "python",
   "name": "python3"
  },
  "language_info": {
   "codemirror_mode": {
    "name": "ipython",
    "version": 3
   },
   "file_extension": ".py",
   "mimetype": "text/x-python",
   "name": "python",
   "nbconvert_exporter": "python",
   "pygments_lexer": "ipython3",
   "version": "3.6.3"
  }
 },
 "nbformat": 4,
 "nbformat_minor": 2
}
